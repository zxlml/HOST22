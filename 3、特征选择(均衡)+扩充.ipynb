{
 "cells": [
  {
   "cell_type": "markdown",
   "metadata": {},
   "source": [
    "# 重复100次实验  取平均值"
   ]
  },
  {
   "cell_type": "code",
   "execution_count": 1,
   "metadata": {
    "ExecuteTime": {
     "end_time": "2019-02-11T20:44:08.271143Z",
     "start_time": "2019-02-11T20:44:07.434388Z"
    }
   },
   "outputs": [],
   "source": [
    "import pandas as pd\n",
    "import numpy as np\n",
    "from sklearn.preprocessing import LabelEncoder\n",
    "from sklearn.model_selection import train_test_split\n",
    "from sklearn.preprocessing import MinMaxScaler\n",
    "from sklearn.utils import shuffle\n",
    "from imblearn.over_sampling import SMOTE                # 过抽样处理库SMOTE\n",
    "from imblearn.under_sampling import RandomUnderSampler  # 欠抽样处理库RandomUnderSample\n",
    "from imblearn.over_sampling import BorderlineSMOTE\n",
    "from imblearn.combine import SMOTEENN, SMOTETomek\n",
    "from sklearn.ensemble import RandomForestClassifier\n",
    "from sklearn.decomposition import PCA           #加载PCA算法包\n",
    "from sklearn.metrics import mean_squared_error as mse\n",
    "import time\n",
    "from sklearn.ensemble import RandomForestClassifier\n",
    "from sklearn.metrics import accuracy_score\n",
    "from sklearn.metrics import f1_score\n",
    "import matplotlib.pyplot as plt\n",
    "import warnings\n",
    "warnings.filterwarnings(\"ignore\")"
   ]
  },
  {
   "cell_type": "code",
   "execution_count": 2,
   "metadata": {},
   "outputs": [],
   "source": [
    "data_names = ['data.xlsx','AES_T400.xlsx','AES_T700.xlsx','AES_T800.xlsx','AES_T900.xlsx',\n",
    "                  'AES_T1200.xlsx','AES_T1300.xlsx','AES_T1400.xlsx','AES_T2000.xlsx',]\n",
    "\n",
    "def create_numerics(data):\n",
    "    # Get nominal columns\n",
    "    nominal_cols = data.select_dtypes(include='object').columns.tolist()\n",
    "\n",
    "    # Turn nominal to numeric\n",
    "    for nom in nominal_cols:\n",
    "        enc = LabelEncoder()\n",
    "        enc.fit(data[nom])\n",
    "        data[nom] = enc.transform(data[nom])\n",
    "    return data\n",
    "    \n",
    "def prepare_data(case = 0 , feature_choice = 0, data_id = 0, ispca = 0):\n",
    "\n",
    "    data = pd.read_excel(data_names[data_id])\n",
    "    data = data.dropna()\n",
    "\n",
    "    data = create_numerics(data)\n",
    "    data = shuffle(data)\n",
    "    \n",
    "    data = data.values\n",
    "    y = data[:,-1]\n",
    "    x = data[:,0:-1]\n",
    "    if(ispca == 1):\n",
    "        pca = PCA(n_components=0.9)\n",
    "        pca.fit(x)\n",
    "        x = pca.transform(x)\n",
    "    \n",
    "    if(feature_choice == 1):    #我们的  先验知识\n",
    "        l=[0,4,8,12]\n",
    "        x = data[:,l]\n",
    "    elif(feature_choice == 2):  # 非均衡下 SHAP的结果  和   任何情况下 PI 的结果\n",
    "        l=[0,1,3,4,8,12]  \n",
    "        x = data[:,l]    \n",
    "    elif(feature_choice == 3):  # 均衡下  SHAP 的结果  \n",
    "        l=[0,4,8,10,12,15]\n",
    "        x = data[:,l]    \n",
    "        \n",
    "    if(data_id == 0):    \n",
    "        print(\"Original samples:\",len(y))\n",
    "        if(case ==1):\n",
    "            model_smote = SMOTE(random_state=42)                      # 建立SMOTE模型对象\n",
    "            x, y = model_smote.fit_sample(x, y)         # 输入数据做过抽样处理\n",
    "        elif(case ==2):\n",
    "            model_RandomUnderSample = RandomUnderSampler(random_state=42)   # 建立RandomUnderSampler模型对象\n",
    "            x, y = model_RandomUnderSample.fit_sample(x, y)   # 输入数据做欠抽样处理\n",
    "        elif(case ==3):\n",
    "            oversample = BorderlineSMOTE(random_state=42)\n",
    "            x, y = oversample.fit_resample(x, y)\n",
    "        elif(case ==4):\n",
    "            smt = SMOTETomek(random_state=42)\n",
    "            x,y =  smt.fit_sample(x, y)\n",
    "        elif(case ==5):\n",
    "            smt = SMOTEENN(random_state=42)\n",
    "            x,y =  smt.fit_sample(x, y)    \n",
    "        print(\"New samples:\",len(y))\n",
    "        print(y.sum())\n",
    "    scaler = MinMaxScaler(feature_range=(0, 1))\n",
    "    x = scaler.fit_transform(x)\n",
    "    return(x,y)\n",
    "#     x_train, x_test, y_train, y_test = train_test_split(x, y, test_size=ratio, random_state=1)\n",
    "#     return(x_train, x_test, y_train, y_test)"
   ]
  },
  {
   "cell_type": "code",
   "execution_count": 3,
   "metadata": {},
   "outputs": [],
   "source": [
    "def RF_test(rf,x_test, y_test):\n",
    "    \n",
    "    start = time.time()\n",
    "    y_pred = rf.predict(x_test)\n",
    "    end = time.time()\n",
    "    \n",
    "    time_    = 1000*(end - start)  # ms\n",
    "    accuracy = 100 * accuracy_score(y_test, y_pred)\n",
    "    f1score  = 100 * f1_score(y_test, y_pred, average='macro')\n",
    "    \n",
    "    total_test   = len(y_test)\n",
    "    tp = 0\n",
    "    tn = 0\n",
    "    fp = 0\n",
    "    fn = 0\n",
    "    for i in range(total_test):\n",
    "        if(y_test[i] == y_pred[i]   and y_pred[i]==1): #trojan\n",
    "            tp += 1\n",
    "        elif(y_test[i] == y_pred[i] and y_pred[i]==0): #normal\n",
    "            tn += 1\n",
    "        elif(y_test[i] != y_pred[i] and y_pred[i]==1): #normal\n",
    "            fp += 1\n",
    "        elif(y_test[i] != y_pred[i] and y_pred[i]==0): #normal\n",
    "            fn += 1\n",
    "    \n",
    "    tpr         = tp/(tp+fn)\n",
    "    tnr         = tn/(tn+fp)\n",
    "    precision   = tp/(tp+fp)\n",
    "    \n",
    "    print(\"在数据集\"+str(data_names[id_data]+\"上的测试结果\"))\n",
    "    print(\"TIME：\",time_)\n",
    "    print(\"TPR ：\",tpr)\n",
    "    print(\"TNR ：\",tnr)\n",
    "    print(\"ACC ：\",accuracy)\n",
    "    print(\"PRE ：\",precision)\n",
    "    print(\"F1  ：\" ,f1score)"
   ]
  },
  {
   "cell_type": "code",
   "execution_count": 4,
   "metadata": {
    "ExecuteTime": {
     "end_time": "2019-02-11T20:44:08.282032Z",
     "start_time": "2019-02-11T20:44:08.273342Z"
    }
   },
   "outputs": [],
   "source": [
    "def one_exp(rf, sampling, id_data, id_features, is_pca):\n",
    "\n",
    "    # 测试集  不扩充， 但是要选维度   选 数据集编号 \n",
    "    x_test, y_test = prepare_data(case = 0 , feature_choice = id_features, data_id = id_data, ispca = is_pca)\n",
    "    RF_test(rf,x_test, y_test)"
   ]
  },
  {
   "cell_type": "markdown",
   "metadata": {},
   "source": [
    "# 重复实验"
   ]
  },
  {
   "cell_type": "code",
   "execution_count": 5,
   "metadata": {
    "ExecuteTime": {
     "end_time": "2019-02-11T20:44:08.306098Z",
     "start_time": "2019-02-11T20:44:08.297298Z"
    },
    "scrolled": true
   },
   "outputs": [
    {
     "name": "stdout",
     "output_type": "stream",
     "text": [
      "Original samples: 6915\n",
      "New samples: 11942\n",
      "5958\n"
     ]
    }
   ],
   "source": [
    "# sampling cases: 0不处理    1 过采样Smote  2 随机欠采样      3 Borderline Smote  4 Smote+Toek 5 SmoteEEN\n",
    "\n",
    "# 特征选择      ：0： 全选   1： 1 4 8 12   2：1 2 4 5 9 13   3：1 4 5 9 13 16\n",
    "\n",
    "# 数据选择 data_names = ['data.xlsx','AES_T400.xlsx','AES_T700.xlsx','AES_T800.xlsx','AES_T900.xlsx',\n",
    "# 'AES_T1200.xlsx','AES_T1300.xlsx','AES_T1400.xlsx','AES_T2000.xlsx',]\n",
    "# 0 是训练集  其他 1-8 是测试集\n",
    "\n",
    "# PCA处理       ：0 则不PCA  1  则PCA\n",
    "\n",
    "\n",
    "if __name__ == '__main__':\n",
    "    sampling = 5     # 过采样技术  建议 5\n",
    "    id_features = 0  # 降维技术    建议 2\n",
    "    is_pca = 0       # 是否PCA     建议 0 \n",
    "    x_train, y_train = prepare_data(case = sampling , feature_choice = id_features, data_id = 0, ispca = is_pca)\n",
    "    \n",
    "    rf = RandomForestClassifier(n_estimators=5, max_depth=5, random_state=1)\n",
    "    rf.fit(x_train, y_train)   "
   ]
  },
  {
   "cell_type": "code",
   "execution_count": 6,
   "metadata": {},
   "outputs": [
    {
     "name": "stdout",
     "output_type": "stream",
     "text": [
      "在数据集AES_T400.xlsx上的测试结果\n",
      "TIME： 1.9948482513427734\n",
      "TPR ： 0.9871794871794872\n",
      "TNR ： 1.0\n",
      "ACC ： 99.98507685420086\n",
      "PRE ： 1.0\n",
      "F1  ： 99.67364491534298\n"
     ]
    }
   ],
   "source": [
    "    id_data = 1\n",
    "    one_exp(rf, sampling, id_data, id_features, is_pca)"
   ]
  },
  {
   "cell_type": "code",
   "execution_count": 7,
   "metadata": {},
   "outputs": [
    {
     "name": "stdout",
     "output_type": "stream",
     "text": [
      "在数据集AES_T700.xlsx上的测试结果\n",
      "TIME： 2.0225048065185547\n",
      "TPR ： 1.0\n",
      "TNR ： 1.0\n",
      "ACC ： 100.0\n",
      "PRE ： 1.0\n",
      "F1  ： 100.0\n"
     ]
    }
   ],
   "source": [
    "    id_data = 2\n",
    "    one_exp(rf, sampling, id_data, id_features, is_pca)"
   ]
  },
  {
   "cell_type": "code",
   "execution_count": 8,
   "metadata": {},
   "outputs": [
    {
     "name": "stdout",
     "output_type": "stream",
     "text": [
      "在数据集AES_T800.xlsx上的测试结果\n",
      "TIME： 1.9948482513427734\n",
      "TPR ： 1.0\n",
      "TNR ： 1.0\n",
      "ACC ： 100.0\n",
      "PRE ： 1.0\n",
      "F1  ： 100.0\n"
     ]
    }
   ],
   "source": [
    "    id_data = 3\n",
    "    one_exp(rf, sampling, id_data, id_features, is_pca)"
   ]
  },
  {
   "cell_type": "code",
   "execution_count": 9,
   "metadata": {},
   "outputs": [
    {
     "name": "stdout",
     "output_type": "stream",
     "text": [
      "在数据集AES_T900.xlsx上的测试结果\n",
      "TIME： 1.9946098327636719\n",
      "TPR ： 0.9978354978354979\n",
      "TNR ： 1.0\n",
      "ACC ： 99.98601202965449\n",
      "PRE ： 1.0\n",
      "F1  ： 99.94209050131124\n"
     ]
    }
   ],
   "source": [
    "    id_data = 4\n",
    "    one_exp(rf, sampling, id_data, id_features, is_pca)"
   ]
  },
  {
   "cell_type": "code",
   "execution_count": 10,
   "metadata": {},
   "outputs": [
    {
     "name": "stdout",
     "output_type": "stream",
     "text": [
      "在数据集AES_T1200.xlsx上的测试结果\n",
      "TIME： 1.9946098327636719\n",
      "TPR ： 0.9978354978354979\n",
      "TNR ： 1.0\n",
      "ACC ： 99.98601202965449\n",
      "PRE ： 1.0\n",
      "F1  ： 99.94209050131124\n"
     ]
    }
   ],
   "source": [
    "    id_data = 5\n",
    "    one_exp(rf, sampling, id_data, id_features, is_pca)"
   ]
  },
  {
   "cell_type": "code",
   "execution_count": 11,
   "metadata": {},
   "outputs": [
    {
     "name": "stdout",
     "output_type": "stream",
     "text": [
      "在数据集AES_T1300.xlsx上的测试结果\n",
      "TIME： 1.9650459289550781\n",
      "TPR ： 1.0\n",
      "TNR ： 1.0\n",
      "ACC ： 100.0\n",
      "PRE ： 1.0\n",
      "F1  ： 100.0\n"
     ]
    }
   ],
   "source": [
    "    id_data = 6\n",
    "    one_exp(rf, sampling, id_data, id_features, is_pca)"
   ]
  },
  {
   "cell_type": "code",
   "execution_count": 12,
   "metadata": {},
   "outputs": [
    {
     "name": "stdout",
     "output_type": "stream",
     "text": [
      "在数据集AES_T1400.xlsx上的测试结果\n",
      "TIME： 1.9941329956054688\n",
      "TPR ： 1.0\n",
      "TNR ： 1.0\n",
      "ACC ： 100.0\n",
      "PRE ： 1.0\n",
      "F1  ： 100.0\n"
     ]
    }
   ],
   "source": [
    "    id_data = 7\n",
    "    one_exp(rf, sampling, id_data, id_features, is_pca)"
   ]
  },
  {
   "cell_type": "code",
   "execution_count": 13,
   "metadata": {},
   "outputs": [
    {
     "name": "stdout",
     "output_type": "stream",
     "text": [
      "在数据集AES_T2000.xlsx上的测试结果\n",
      "TIME： 2.000093460083008\n",
      "TPR ： 1.0\n",
      "TNR ： 1.0\n",
      "ACC ： 100.0\n",
      "PRE ： 1.0\n",
      "F1  ： 100.0\n"
     ]
    }
   ],
   "source": [
    "    id_data = 8\n",
    "    one_exp(rf, sampling, id_data, id_features, is_pca)"
   ]
  },
  {
   "cell_type": "code",
   "execution_count": null,
   "metadata": {},
   "outputs": [],
   "source": []
  }
 ],
 "metadata": {
  "interpreter": {
   "hash": "ffd07b64928e1e927f34974c45036581f12be0ff4d37550e26c4888777a51c9b"
  },
  "kernelspec": {
   "display_name": "Python 3",
   "language": "python",
   "name": "python3"
  },
  "language_info": {
   "codemirror_mode": {
    "name": "ipython",
    "version": 3
   },
   "file_extension": ".py",
   "mimetype": "text/x-python",
   "name": "python",
   "nbconvert_exporter": "python",
   "pygments_lexer": "ipython3",
   "version": "3.6.12"
  },
  "toc": {
   "base_numbering": 1,
   "nav_menu": {},
   "number_sections": true,
   "sideBar": true,
   "skip_h1_title": false,
   "title_cell": "Table of Contents",
   "title_sidebar": "Contents",
   "toc_cell": false,
   "toc_position": {
    "height": "calc(100% - 180px)",
    "left": "10px",
    "top": "150px",
    "width": "336px"
   },
   "toc_section_display": true,
   "toc_window_display": true
  },
  "varInspector": {
   "cols": {
    "lenName": 16,
    "lenType": 16,
    "lenVar": 40
   },
   "kernels_config": {
    "python": {
     "delete_cmd_postfix": "",
     "delete_cmd_prefix": "del ",
     "library": "var_list.py",
     "varRefreshCmd": "print(var_dic_list())"
    },
    "r": {
     "delete_cmd_postfix": ") ",
     "delete_cmd_prefix": "rm(",
     "library": "var_list.r",
     "varRefreshCmd": "cat(var_dic_list()) "
    }
   },
   "types_to_exclude": [
    "module",
    "function",
    "builtin_function_or_method",
    "instance",
    "_Feature"
   ],
   "window_display": false
  }
 },
 "nbformat": 4,
 "nbformat_minor": 4
}
